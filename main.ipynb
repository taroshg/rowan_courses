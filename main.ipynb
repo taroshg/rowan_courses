{
 "cells": [
  {
   "cell_type": "code",
   "execution_count": 1,
   "metadata": {},
   "outputs": [
    {
     "name": "stdout",
     "output_type": "stream",
     "text": [
      "Intel MKL WARNING: Support of Intel(R) Streaming SIMD Extensions 4.2 (Intel(R) SSE4.2) enabled only processors has been deprecated. Intel oneAPI Math Kernel Library 2025.0 will require Intel(R) Advanced Vector Extensions (Intel(R) AVX) instructions.\n",
      "Intel MKL WARNING: Support of Intel(R) Streaming SIMD Extensions 4.2 (Intel(R) SSE4.2) enabled only processors has been deprecated. Intel oneAPI Math Kernel Library 2025.0 will require Intel(R) Advanced Vector Extensions (Intel(R) AVX) instructions.\n"
     ]
    },
    {
     "name": "stderr",
     "output_type": "stream",
     "text": [
      "/Users/tarosh/Library/CloudStorage/OneDrive-Personal/Projects/mnist/data/MNIST/rowan_courses/catalog.py:2: TqdmWarning: IProgress not found. Please update jupyter and ipywidgets. See https://ipywidgets.readthedocs.io/en/stable/user_install.html\n",
      "  from tqdm.autonotebook import tqdm\n",
      "  8%|▊         | 11/145 [00:41<08:23,  3.75s/it]\n"
     ]
    },
    {
     "ename": "AttributeError",
     "evalue": "'float' object has no attribute 'split'",
     "output_type": "error",
     "traceback": [
      "\u001b[0;31m---------------------------------------------------------------------------\u001b[0m",
      "\u001b[0;31mAttributeError\u001b[0m                            Traceback (most recent call last)",
      "Cell \u001b[0;32mIn[1], line 2\u001b[0m\n\u001b[1;32m      1\u001b[0m \u001b[38;5;28;01mfrom\u001b[39;00m \u001b[38;5;21;01mcatalog\u001b[39;00m \u001b[38;5;28;01mimport\u001b[39;00m Catalog\n\u001b[0;32m----> 2\u001b[0m rowan_catalog \u001b[38;5;241m=\u001b[39m \u001b[43mCatalog\u001b[49m\u001b[43m(\u001b[49m\u001b[43mterm\u001b[49m\u001b[38;5;241;43m=\u001b[39;49m\u001b[38;5;124;43m'\u001b[39;49m\u001b[38;5;124;43mspring 2024\u001b[39;49m\u001b[38;5;124;43m'\u001b[39;49m\u001b[43m)\u001b[49m\n",
      "File \u001b[0;32m~/Library/CloudStorage/OneDrive-Personal/Projects/mnist/data/MNIST/rowan_courses/catalog.py:37\u001b[0m, in \u001b[0;36mCatalog.__init__\u001b[0;34m(self, csv, term)\u001b[0m\n\u001b[1;32m     34\u001b[0m \u001b[39mfor\u001b[39;00m crse \u001b[39min\u001b[39;00m \u001b[39mself\u001b[39m\u001b[39m.\u001b[39mcourses[subj]:\n\u001b[1;32m     36\u001b[0m     course \u001b[39m=\u001b[39m Course(subj, crse, term)\n\u001b[0;32m---> 37\u001b[0m     classes \u001b[39m=\u001b[39m \u001b[39mself\u001b[39;49m\u001b[39m.\u001b[39;49mget_classes(subj, crse)\n\u001b[1;32m     39\u001b[0m     \u001b[39mif\u001b[39;00m course\u001b[39m.\u001b[39mcredits \u001b[39m==\u001b[39m \u001b[39mNone\u001b[39;00m:\n\u001b[1;32m     40\u001b[0m         \u001b[39m# slower method for extracting course credits\u001b[39;00m\n\u001b[1;32m     41\u001b[0m         course\u001b[39m.\u001b[39mcredits \u001b[39m=\u001b[39m \u001b[39mself\u001b[39m\u001b[39m.\u001b[39m_extract_creds()\n",
      "File \u001b[0;32m~/Library/CloudStorage/OneDrive-Personal/Projects/mnist/data/MNIST/rowan_courses/catalog.py:55\u001b[0m, in \u001b[0;36mCatalog.get_classes\u001b[0;34m(self, subj, crse)\u001b[0m\n\u001b[1;32m     53\u001b[0m     \u001b[39m# if proffesor info is found else just put in string\u001b[39;00m\n\u001b[1;32m     54\u001b[0m     prof \u001b[39m=\u001b[39m prof \u001b[39mif\u001b[39;00m prof \u001b[39melse\u001b[39;00m \u001b[39mcls\u001b[39m[\u001b[39m'\u001b[39m\u001b[39mProf\u001b[39m\u001b[39m'\u001b[39m]\n\u001b[0;32m---> 55\u001b[0m     \u001b[39mcls\u001b[39m \u001b[39m=\u001b[39m CourseClass(subj, \n\u001b[1;32m     56\u001b[0m                       crse, \n\u001b[1;32m     57\u001b[0m                       prof, \n\u001b[1;32m     58\u001b[0m                       \u001b[39mcls\u001b[39;49m[\u001b[39m'\u001b[39;49m\u001b[39mDay  Beg   End   Bldg Room  (Type)\u001b[39;49m\u001b[39m'\u001b[39;49m], \n\u001b[1;32m     59\u001b[0m                       \u001b[39mcls\u001b[39;49m[\u001b[39m'\u001b[39;49m\u001b[39mAvail\u001b[39;49m\u001b[39m'\u001b[39;49m], \n\u001b[1;32m     60\u001b[0m                       \u001b[39mcls\u001b[39;49m[\u001b[39m'\u001b[39;49m\u001b[39mMax\u001b[39;49m\u001b[39m'\u001b[39;49m])\n\u001b[1;32m     61\u001b[0m     out\u001b[39m.\u001b[39mappend(\u001b[39mcls\u001b[39m)\n\u001b[1;32m     62\u001b[0m \u001b[39mreturn\u001b[39;00m\n",
      "File \u001b[0;32m~/Library/CloudStorage/OneDrive-Personal/Projects/mnist/data/MNIST/rowan_courses/courseclass.py:25\u001b[0m, in \u001b[0;36mCourseClass.__init__\u001b[0;34m(self, subj, crse, prof, sched, avail, max, term)\u001b[0m\n\u001b[1;32m     15\u001b[0m \u001b[39mdef\u001b[39;00m \u001b[39m__init__\u001b[39m(\u001b[39mself\u001b[39m, subj: \u001b[39mstr\u001b[39m, \n\u001b[1;32m     16\u001b[0m                    crse: \u001b[39mstr\u001b[39m, \n\u001b[1;32m     17\u001b[0m                    prof: \u001b[39mstr\u001b[39m \u001b[39m|\u001b[39m \u001b[39mdict\u001b[39m,\n\u001b[0;32m   (...)\u001b[0m\n\u001b[1;32m     20\u001b[0m                    \u001b[39mmax\u001b[39m: \u001b[39mint\u001b[39m,\n\u001b[1;32m     21\u001b[0m                    term: \u001b[39mstr\u001b[39m \u001b[39m=\u001b[39m \u001b[39m'\u001b[39m\u001b[39m202520\u001b[39m\u001b[39m'\u001b[39m) \u001b[39m-\u001b[39m\u001b[39m>\u001b[39m \u001b[39mNone\u001b[39;00m:\n\u001b[1;32m     23\u001b[0m     \u001b[39msuper\u001b[39m()\u001b[39m.\u001b[39m\u001b[39m__init__\u001b[39m(subj, crse, term)\n\u001b[0;32m---> 25\u001b[0m     \u001b[39mself\u001b[39m\u001b[39m.\u001b[39msched \u001b[39m=\u001b[39m \u001b[39mself\u001b[39;49m\u001b[39m.\u001b[39;49m_decode_class_meeting(sched)\n\u001b[1;32m     26\u001b[0m     \u001b[39mself\u001b[39m\u001b[39m.\u001b[39mprof \u001b[39m=\u001b[39m prof\n\u001b[1;32m     27\u001b[0m     \u001b[39mself\u001b[39m\u001b[39m.\u001b[39mavail \u001b[39m=\u001b[39m avail\n",
      "File \u001b[0;32m~/Library/CloudStorage/OneDrive-Personal/Projects/mnist/data/MNIST/rowan_courses/courseclass.py:69\u001b[0m, in \u001b[0;36mCourseClass._decode_class_meeting\u001b[0;34m(self, string)\u001b[0m\n\u001b[1;32m     52\u001b[0m \u001b[39mdef\u001b[39;00m \u001b[39m_decode_class_meeting\u001b[39m(\u001b[39mself\u001b[39m, string):\n\u001b[1;32m     53\u001b[0m \u001b[39m    \u001b[39m\u001b[39m\"\"\"Decodes the class meeting time from a typical Rowan format\u001b[39;00m\n\u001b[1;32m     54\u001b[0m \u001b[39m        Args:\u001b[39;00m\n\u001b[1;32m     55\u001b[0m \u001b[39m            str: Rowan's string for class meetings\u001b[39;00m\n\u001b[0;32m   (...)\u001b[0m\n\u001b[1;32m     66\u001b[0m \u001b[39m                    \u001b[39;00m\n\u001b[1;32m     67\u001b[0m \u001b[39m    \"\"\"\u001b[39;00m\n\u001b[0;32m---> 69\u001b[0m     _ln_split: \u001b[39mlist\u001b[39m[\u001b[39mstr\u001b[39m] \u001b[39m=\u001b[39m string\u001b[39m.\u001b[39;49msplit(\u001b[39m'\u001b[39m\u001b[39m\\n\u001b[39;00m\u001b[39m'\u001b[39m)\n\u001b[1;32m     71\u001b[0m     \u001b[39m# <days: int> : list[(start time, end time), ...]\u001b[39;00m\n\u001b[1;32m     72\u001b[0m     times_dict \u001b[39m=\u001b[39m {}\n",
      "\u001b[0;31mAttributeError\u001b[0m: 'float' object has no attribute 'split'"
     ]
    }
   ],
   "source": [
    "from catalog import Catalog\n",
    "rowan_catalog = Catalog(term='spring 2024')"
   ]
  },
  {
   "cell_type": "code",
   "execution_count": 3,
   "metadata": {},
   "outputs": [],
   "source": [
    "import re\n",
    "\n",
    "# thanks to bing chat\n",
    "class PreqParser():\n",
    "    \"\"\"parses prerequisites from Rowan's detailed course information\n",
    "    \"\"\"\n",
    "    def __init__(self, inp: str) -> None:\n",
    "        self.inp = inp\n",
    "\n",
    "        self.tokens = []\n",
    "        tokens = re.findall(r'([A-Z]{2,4} \\d{5}|\\(|\\)|or|and)', inp)\n",
    "        for i in range(len(tokens)):\n",
    "            if tokens[i] == '(' and tokens[i+1] == ')':\n",
    "                continue\n",
    "            if tokens[i] == ')' and tokens[i-1] == '(':\n",
    "                continue\n",
    "            self.tokens.append(tokens[i])\n",
    "\n",
    "        # abstract syntax tree\n",
    "        self.ast = self.parse()\n",
    "\n",
    "    def parse(self):\n",
    "        index, ast = self._parse_or(0)\n",
    "        if index != len(self.tokens):\n",
    "            raise ValueError(f\"Unexpected tokens at the end: {self.inp}\")\n",
    "        return ast\n",
    "\n",
    "    def _parse_expression(self, index):\n",
    "        if self.tokens[index] == '(':\n",
    "            index, node = self._parse_or(index + 1)\n",
    "            if self.tokens[index] != ')':\n",
    "                raise ValueError(f\"Mismatched parentheses: {self.inp}\")\n",
    "            return index + 1, node\n",
    "        else:\n",
    "            return index + 1, self.tokens[index]\n",
    "\n",
    "    def _parse_and(self, index):\n",
    "        index, left = self._parse_expression(index)\n",
    "        while index < len(self.tokens) and self.tokens[index] == 'and':\n",
    "            index, right = self._parse_expression(index + 1)\n",
    "            left = ('and', left, right)\n",
    "        return index, left\n",
    "\n",
    "    def _parse_or(self, index):\n",
    "        index, left = self._parse_and(index)\n",
    "        while index < len(self.tokens) and self.tokens[index] == 'or':\n",
    "            index, right = self._parse_and(index + 1)\n",
    "            left = ('or', left, right)\n",
    "        return index, left\n",
    "\n",
    "    def evaluate(self, context: dict) -> bool:\n",
    "        \"\"\"returns if preqs are vaild, given the courses taken\n",
    "        Args:\n",
    "            context: dict where keys are courses, and values is boolean\n",
    "                example - context = {\n",
    "                                        'CS 10337': True,\n",
    "                                        'MIS 02337': False,\n",
    "                                        'CS 04430': True,\n",
    "                                        'CS 02435': False,\n",
    "                                        'CS 10338': True,\n",
    "                                        'CS 10339': True\n",
    "                                    }\n",
    "        Returns:\n",
    "            True or False of if the context is qualified for this course preq\n",
    "        \"\"\"\n",
    "        if isinstance(self.ast, str):\n",
    "            return context.get(self.ast, False)\n",
    "        op, left, right = self.ast\n",
    "        if op == 'and':\n",
    "            return self.evaluate(left, context) and self.evaluate(right, context)\n",
    "        elif op == 'or':\n",
    "            return self.evaluate(left, context) or self.evaluate(right, context)\n",
    "        else:\n",
    "            raise ValueError(f\"Unknown operator: {op}\")"
   ]
  },
  {
   "cell_type": "code",
   "execution_count": 9,
   "metadata": {},
   "outputs": [
    {
     "ename": "ValueError",
     "evalue": "Unexpected tokens at the end: FOUNDATIONS OF ACCTG 2 or ( PRINCIPLES OF ACCTG I 2 and  PRINCIPLES OF ACCTG II 2) or Undergraduate level  ACC 03405 Minimum Grade of C or (Undergraduate level  ACC 03210 Minimum Grade of C and Undergraduate level  ACC 03211 Minimum Grade of C)",
     "output_type": "error",
     "traceback": [
      "\u001b[0;31m---------------------------------------------------------------------------\u001b[0m",
      "\u001b[0;31mValueError\u001b[0m                                Traceback (most recent call last)",
      "Cell \u001b[0;32mIn[9], line 3\u001b[0m\n\u001b[1;32m      1\u001b[0m test \u001b[38;5;241m=\u001b[39m \u001b[38;5;124m\"\u001b[39m\u001b[38;5;124mUndergraduate level  STAT 02260 Minimum Grade of D- and Undergraduate level  ACC 03211 Minimum Grade of D- and (Undergraduate level  STAT 02265 Minimum Grade of D- (may be taken concurrently) or Undergraduate level  STAT 02261 Minimum Grade of D- (may be taken concurrently)) and (Undergraduate level  MATH 03125 Minimum Grade of D- or Undergraduate level  MATH 01130 Minimum Grade of D- or Undergraduate level  MATH 01140 Minimum Grade of D-)\u001b[39m\u001b[38;5;124m\"\u001b[39m\n\u001b[1;32m      2\u001b[0m test2 \u001b[38;5;241m=\u001b[39m \u001b[38;5;124m\"\u001b[39m\u001b[38;5;124mFOUNDATIONS OF ACCTG 2 or ( PRINCIPLES OF ACCTG I 2 and  PRINCIPLES OF ACCTG II 2) or Undergraduate level  ACC 03405 Minimum Grade of C or (Undergraduate level  ACC 03210 Minimum Grade of C and Undergraduate level  ACC 03211 Minimum Grade of C)\u001b[39m\u001b[38;5;124m\"\u001b[39m\n\u001b[0;32m----> 3\u001b[0m out \u001b[38;5;241m=\u001b[39m \u001b[43mPreqParser\u001b[49m\u001b[43m(\u001b[49m\u001b[43mtest2\u001b[49m\u001b[43m)\u001b[49m\n",
      "Cell \u001b[0;32mIn[3], line 20\u001b[0m, in \u001b[0;36mPreqParser.__init__\u001b[0;34m(self, inp)\u001b[0m\n\u001b[1;32m     17\u001b[0m     \u001b[38;5;28mself\u001b[39m\u001b[38;5;241m.\u001b[39mtokens\u001b[38;5;241m.\u001b[39mappend(tokens[i])\n\u001b[1;32m     19\u001b[0m \u001b[38;5;66;03m# abstract syntax tree\u001b[39;00m\n\u001b[0;32m---> 20\u001b[0m \u001b[38;5;28mself\u001b[39m\u001b[38;5;241m.\u001b[39mast \u001b[38;5;241m=\u001b[39m \u001b[38;5;28;43mself\u001b[39;49m\u001b[38;5;241;43m.\u001b[39;49m\u001b[43mparse\u001b[49m\u001b[43m(\u001b[49m\u001b[43m)\u001b[49m\n",
      "Cell \u001b[0;32mIn[3], line 25\u001b[0m, in \u001b[0;36mPreqParser.parse\u001b[0;34m(self)\u001b[0m\n\u001b[1;32m     23\u001b[0m index, ast \u001b[38;5;241m=\u001b[39m \u001b[38;5;28mself\u001b[39m\u001b[38;5;241m.\u001b[39m_parse_or(\u001b[38;5;241m0\u001b[39m)\n\u001b[1;32m     24\u001b[0m \u001b[38;5;28;01mif\u001b[39;00m index \u001b[38;5;241m!=\u001b[39m \u001b[38;5;28mlen\u001b[39m(\u001b[38;5;28mself\u001b[39m\u001b[38;5;241m.\u001b[39mtokens):\n\u001b[0;32m---> 25\u001b[0m     \u001b[38;5;28;01mraise\u001b[39;00m \u001b[38;5;167;01mValueError\u001b[39;00m(\u001b[38;5;124mf\u001b[39m\u001b[38;5;124m\"\u001b[39m\u001b[38;5;124mUnexpected tokens at the end: \u001b[39m\u001b[38;5;132;01m{\u001b[39;00m\u001b[38;5;28mself\u001b[39m\u001b[38;5;241m.\u001b[39minp\u001b[38;5;132;01m}\u001b[39;00m\u001b[38;5;124m\"\u001b[39m)\n\u001b[1;32m     26\u001b[0m \u001b[38;5;28;01mreturn\u001b[39;00m ast\n",
      "\u001b[0;31mValueError\u001b[0m: Unexpected tokens at the end: FOUNDATIONS OF ACCTG 2 or ( PRINCIPLES OF ACCTG I 2 and  PRINCIPLES OF ACCTG II 2) or Undergraduate level  ACC 03405 Minimum Grade of C or (Undergraduate level  ACC 03210 Minimum Grade of C and Undergraduate level  ACC 03211 Minimum Grade of C)"
     ]
    }
   ],
   "source": [
    "test = \"Undergraduate level  STAT 02260 Minimum Grade of D- and Undergraduate level  ACC 03211 Minimum Grade of D- and (Undergraduate level  STAT 02265 Minimum Grade of D- (may be taken concurrently) or Undergraduate level  STAT 02261 Minimum Grade of D- (may be taken concurrently)) and (Undergraduate level  MATH 03125 Minimum Grade of D- or Undergraduate level  MATH 01130 Minimum Grade of D- or Undergraduate level  MATH 01140 Minimum Grade of D-)\"\n",
    "test2 = \"FOUNDATIONS OF ACCTG 2 or ( PRINCIPLES OF ACCTG I 2 and  PRINCIPLES OF ACCTG II 2) or Undergraduate level  ACC 03405 Minimum Grade of C or (Undergraduate level  ACC 03210 Minimum Grade of C and Undergraduate level  ACC 03211 Minimum Grade of C)\"\n",
    "out = PreqParser(test2)"
   ]
  },
  {
   "cell_type": "code",
   "execution_count": 10,
   "metadata": {},
   "outputs": [
    {
     "data": {
      "text/plain": [
       "['STAT 02260',\n",
       " 'and',\n",
       " 'ACC 03211',\n",
       " 'and',\n",
       " '(',\n",
       " 'STAT 02265',\n",
       " 'or',\n",
       " 'STAT 02261',\n",
       " ')',\n",
       " 'and',\n",
       " '(',\n",
       " 'MATH 03125',\n",
       " 'or',\n",
       " 'MATH 01130',\n",
       " 'or',\n",
       " 'MATH 01140',\n",
       " ')']"
      ]
     },
     "execution_count": 10,
     "metadata": {},
     "output_type": "execute_result"
    }
   ],
   "source": [
    "out.tokens"
   ]
  }
 ],
 "metadata": {
  "kernelspec": {
   "display_name": "Python 3.12.5 ('betterSectionTally')",
   "language": "python",
   "name": "python3"
  },
  "language_info": {
   "codemirror_mode": {
    "name": "ipython",
    "version": 3
   },
   "file_extension": ".py",
   "mimetype": "text/x-python",
   "name": "python",
   "nbconvert_exporter": "python",
   "pygments_lexer": "ipython3",
   "version": "3.12.5"
  },
  "orig_nbformat": 4,
  "vscode": {
   "interpreter": {
    "hash": "21bcc8daa5091b1ee170940f0cfd4cf620e1862ae2e6996a2a5bc04203bad3e2"
   }
  }
 },
 "nbformat": 4,
 "nbformat_minor": 2
}
