{
 "cells": [
  {
   "cell_type": "code",
   "execution_count": 1,
   "metadata": {},
   "outputs": [
    {
     "name": "stderr",
     "output_type": "stream",
     "text": [
      "/Users/tarosh/opt/anaconda3/envs/betterSectionTally/lib/python3.12/site-packages/tqdm/auto.py:21: TqdmWarning: IProgress not found. Please update jupyter and ipywidgets. See https://ipywidgets.readthedocs.io/en/stable/user_install.html\n",
      "  from .autonotebook import tqdm as notebook_tqdm\n"
     ]
    }
   ],
   "source": [
    "from bs4 import BeautifulSoup\n",
    "from tqdm.auto import tqdm\n",
    "import requests\n",
    "import json\n",
    "import re\n",
    "import os"
   ]
  },
  {
   "cell_type": "code",
   "execution_count": 2,
   "metadata": {},
   "outputs": [
    {
     "name": "stdout",
     "output_type": "stream",
     "text": [
      "Intel MKL WARNING: Support of Intel(R) Streaming SIMD Extensions 4.2 (Intel(R) SSE4.2) enabled only processors has been deprecated. Intel oneAPI Math Kernel Library 2025.0 will require Intel(R) Advanced Vector Extensions (Intel(R) AVX) instructions.\n",
      "Intel MKL WARNING: Support of Intel(R) Streaming SIMD Extensions 4.2 (Intel(R) SSE4.2) enabled only processors has been deprecated. Intel oneAPI Math Kernel Library 2025.0 will require Intel(R) Advanced Vector Extensions (Intel(R) AVX) instructions.\n"
     ]
    }
   ],
   "source": [
    "from backend.catalog import Catalog\n",
    "from backend.sectiontally import SectionTally"
   ]
  },
  {
   "cell_type": "code",
   "execution_count": 3,
   "metadata": {},
   "outputs": [
    {
     "name": "stderr",
     "output_type": "stream",
     "text": [
      "100%|██████████| 4695/4695 [00:00<00:00, 9808.00it/s]\n"
     ]
    }
   ],
   "source": [
    "tally = SectionTally(term='202520', subj='ALL', dept='ALL', attr='ALL')"
   ]
  },
  {
   "cell_type": "code",
   "execution_count": 4,
   "metadata": {},
   "outputs": [
    {
     "name": "stderr",
     "output_type": "stream",
     "text": [
      "100%|██████████| 149/149 [07:00<00:00,  2.82s/it]\n"
     ]
    },
    {
     "ename": "AttributeError",
     "evalue": "'Catalog' object has no attribute 'data'",
     "output_type": "error",
     "traceback": [
      "\u001b[0;31m---------------------------------------------------------------------------\u001b[0m",
      "\u001b[0;31mAttributeError\u001b[0m                            Traceback (most recent call last)",
      "Cell \u001b[0;32mIn[4], line 1\u001b[0m\n\u001b[0;32m----> 1\u001b[0m catalog \u001b[38;5;241m=\u001b[39m \u001b[43mCatalog\u001b[49m\u001b[43m(\u001b[49m\u001b[43mtally\u001b[49m\u001b[38;5;241;43m=\u001b[39;49m\u001b[43mtally\u001b[49m\u001b[43m,\u001b[49m\u001b[43m \u001b[49m\u001b[43mcatalog_json\u001b[49m\u001b[38;5;241;43m=\u001b[39;49m\u001b[38;5;124;43m'\u001b[39;49m\u001b[38;5;124;43m./catalog.json\u001b[39;49m\u001b[38;5;124;43m'\u001b[39;49m\u001b[43m,\u001b[49m\u001b[43m \u001b[49m\u001b[43mforce_download\u001b[49m\u001b[38;5;241;43m=\u001b[39;49m\u001b[38;5;28;43;01mTrue\u001b[39;49;00m\u001b[43m)\u001b[49m\n",
      "File \u001b[0;32m~/Library/CloudStorage/OneDrive-Personal/Projects/rowan_courses/backend/catalog.py:28\u001b[0m, in \u001b[0;36mCatalog.__init__\u001b[0;34m(self, tally, catalog_json, force_download)\u001b[0m\n\u001b[1;32m     26\u001b[0m         \u001b[38;5;28mself\u001b[39m\u001b[38;5;241m.\u001b[39mdata \u001b[38;5;241m=\u001b[39m \u001b[38;5;28mself\u001b[39m\u001b[38;5;241m.\u001b[39mdownload()\n\u001b[1;32m     27\u001b[0m \u001b[38;5;28;01melse\u001b[39;00m:\n\u001b[0;32m---> 28\u001b[0m     \u001b[38;5;28mself\u001b[39m\u001b[38;5;241m.\u001b[39mdata \u001b[38;5;241m=\u001b[39m \u001b[38;5;28;43mself\u001b[39;49m\u001b[38;5;241;43m.\u001b[39;49m\u001b[43mdownload\u001b[49m\u001b[43m(\u001b[49m\u001b[43m)\u001b[49m\n",
      "File \u001b[0;32m~/Library/CloudStorage/OneDrive-Personal/Projects/rowan_courses/backend/catalog.py:59\u001b[0m, in \u001b[0;36mCatalog.download\u001b[0;34m(self)\u001b[0m\n\u001b[1;32m     48\u001b[0m         soup \u001b[38;5;241m=\u001b[39m BeautifulSoup(response\u001b[38;5;241m.\u001b[39mcontent, features\u001b[38;5;241m=\u001b[39m\u001b[38;5;124m\"\u001b[39m\u001b[38;5;124mlxml\u001b[39m\u001b[38;5;124m\"\u001b[39m)\n\u001b[1;32m     50\u001b[0m         catalog[\u001b[38;5;124mf\u001b[39m\u001b[38;5;124m'\u001b[39m\u001b[38;5;132;01m{\u001b[39;00msubj\u001b[38;5;132;01m}\u001b[39;00m\u001b[38;5;124m \u001b[39m\u001b[38;5;132;01m{\u001b[39;00mcrse\u001b[38;5;132;01m}\u001b[39;00m\u001b[38;5;124m'\u001b[39m] \u001b[38;5;241m=\u001b[39m {\n\u001b[1;32m     51\u001b[0m             \u001b[38;5;124m\"\u001b[39m\u001b[38;5;124msubj\u001b[39m\u001b[38;5;124m\"\u001b[39m: subj,\n\u001b[1;32m     52\u001b[0m             \u001b[38;5;124m\"\u001b[39m\u001b[38;5;124mcrse\u001b[39m\u001b[38;5;124m\"\u001b[39m: crse,\n\u001b[0;32m   (...)\u001b[0m\n\u001b[1;32m     56\u001b[0m             \u001b[38;5;124m\"\u001b[39m\u001b[38;5;124mcreds\u001b[39m\u001b[38;5;124m\"\u001b[39m: \u001b[38;5;28mself\u001b[39m\u001b[38;5;241m.\u001b[39mextract_credits(soup),\n\u001b[1;32m     57\u001b[0m         }\n\u001b[0;32m---> 59\u001b[0m catalog \u001b[38;5;241m=\u001b[39m \u001b[38;5;28;43mself\u001b[39;49m\u001b[38;5;241;43m.\u001b[39;49m\u001b[43m_filter_all_courses_preqs\u001b[49m\u001b[43m(\u001b[49m\u001b[43mcatalog\u001b[49m\u001b[43m)\u001b[49m      \n\u001b[1;32m     61\u001b[0m \u001b[38;5;28;01mwith\u001b[39;00m \u001b[38;5;28mopen\u001b[39m(\u001b[38;5;28mself\u001b[39m\u001b[38;5;241m.\u001b[39mcatalog_json, \u001b[38;5;124m'\u001b[39m\u001b[38;5;124mw\u001b[39m\u001b[38;5;124m'\u001b[39m) \u001b[38;5;28;01mas\u001b[39;00m f:\n\u001b[1;32m     62\u001b[0m     json\u001b[38;5;241m.\u001b[39mdump(catalog, f)\n",
      "File \u001b[0;32m~/Library/CloudStorage/OneDrive-Personal/Projects/rowan_courses/backend/catalog.py:102\u001b[0m, in \u001b[0;36mCatalog._filter_all_courses_preqs\u001b[0;34m(self, catalog)\u001b[0m\n\u001b[1;32m    100\u001b[0m     out \u001b[38;5;241m=\u001b[39m catalog[course][\u001b[38;5;124m'\u001b[39m\u001b[38;5;124mpreqs\u001b[39m\u001b[38;5;124m'\u001b[39m]\n\u001b[1;32m    101\u001b[0m     \u001b[38;5;28;01mif\u001b[39;00m out \u001b[38;5;241m!=\u001b[39m \u001b[38;5;28;01mNone\u001b[39;00m:\n\u001b[0;32m--> 102\u001b[0m         catalog[course][\u001b[38;5;124m'\u001b[39m\u001b[38;5;124mpreqs\u001b[39m\u001b[38;5;124m'\u001b[39m] \u001b[38;5;241m=\u001b[39m \u001b[38;5;28;43mself\u001b[39;49m\u001b[38;5;241;43m.\u001b[39;49m\u001b[43m_filter_preqs\u001b[49m\u001b[43m(\u001b[49m\u001b[43mout\u001b[49m\u001b[43m)\u001b[49m\n\u001b[1;32m    103\u001b[0m \u001b[38;5;28;01mreturn\u001b[39;00m catalog\n",
      "File \u001b[0;32m~/Library/CloudStorage/OneDrive-Personal/Projects/rowan_courses/backend/catalog.py:118\u001b[0m, in \u001b[0;36mCatalog._filter_preqs\u001b[0;34m(self, preqs_raw)\u001b[0m\n\u001b[1;32m    116\u001b[0m \u001b[38;5;66;03m# replaces all preqs with their titles\u001b[39;00m\n\u001b[1;32m    117\u001b[0m \u001b[38;5;28;01mfor\u001b[39;00m preq \u001b[38;5;129;01min\u001b[39;00m preqs:\n\u001b[0;32m--> 118\u001b[0m     \u001b[38;5;28;01mif\u001b[39;00m preq \u001b[38;5;129;01min\u001b[39;00m \u001b[38;5;28;43mself\u001b[39;49m\u001b[38;5;241;43m.\u001b[39;49m\u001b[43mdata\u001b[49m:\n\u001b[1;32m    119\u001b[0m         title \u001b[38;5;241m=\u001b[39m \u001b[38;5;28mself\u001b[39m\u001b[38;5;241m.\u001b[39mdata[preq][\u001b[38;5;124m'\u001b[39m\u001b[38;5;124mtitle\u001b[39m\u001b[38;5;124m'\u001b[39m]\n\u001b[1;32m    120\u001b[0m         out \u001b[38;5;241m=\u001b[39m out\u001b[38;5;241m.\u001b[39mreplace(preq, title)\n",
      "\u001b[0;31mAttributeError\u001b[0m: 'Catalog' object has no attribute 'data'"
     ]
    }
   ],
   "source": [
    "catalog = Catalog(tally=tally, catalog_json='./catalog.json', force_download=True)"
   ]
  },
  {
   "cell_type": "code",
   "execution_count": 31,
   "metadata": {},
   "outputs": [],
   "source": [
    "def extract_preqs(soup) -> str:\n",
    "    \"\"\"\n",
    "        extracts prerequisites from Rowan's detailed course information website\n",
    "        \n",
    "        Args:\n",
    "            soup: BeautifulSoup of Rowan course information HTML\n",
    "        Returns:\n",
    "            preqs: string\n",
    "    \"\"\"\n",
    "    preq_head = soup.find('span', 'fieldlabeltext', string=re.compile('Prerequisites', re.IGNORECASE))\n",
    "    if preq_head == None:\n",
    "        return None\n",
    "\n",
    "    assert (preq_head.next_siblings != None), \"nothing found after 'Prerequisites: '\"\n",
    "        \n",
    "    res = []\n",
    "    prev_tag = ''\n",
    "    for sibling in preq_head.next_siblings:\n",
    "        if sibling == '\\n':\n",
    "            continue\n",
    "\n",
    "        if (sibling.name == 'br') and (prev_tag == 'br'):\n",
    "            break\n",
    "\n",
    "        prev_tag = sibling.name\n",
    "\n",
    "        s = sibling.string\n",
    "        if s != None:\n",
    "            res.append(s)\n",
    "\n",
    "    return ''.join(res)"
   ]
  },
  {
   "cell_type": "code",
   "execution_count": 151,
   "metadata": {},
   "outputs": [],
   "source": [
    "text = catalog.data['CS 04400']['preqs']\n",
    "words_to_remove = ['Undergraduate level', 'Graduate level', 'Minimum Grade of']\n",
    "pattern = r'\\b(?:' + '|'.join(words_to_remove) + r')\\b'\n",
    "out = re.sub(pattern, ' ', text)\n",
    "out = ' '.join(re.sub(r'([A-Z][+|-])', r'{min \\1}', out).split())\n",
    "preqs = re.findall(r'(\\w{2,5} \\d{5})', out)"
   ]
  },
  {
   "cell_type": "code",
   "execution_count": 152,
   "metadata": {},
   "outputs": [
    {
     "data": {
      "text/plain": [
       "'( CS 01205 {min D-} or CS 04215 - Computer Laboratory Techniques {min D-}) and CS 07340 - Design and Analysis of Algorithms {min D-} and ( CS 07321 {min D-} or CS 04321 - Software Engineering I {min D-})'"
      ]
     },
     "execution_count": 152,
     "metadata": {},
     "output_type": "execute_result"
    }
   ],
   "source": [
    "for preq in preqs:\n",
    "    if preq in catalog.data:\n",
    "        title = catalog.data[preq]['title']\n",
    "        out = out.replace(preq, title)\n",
    "out"
   ]
  }
 ],
 "metadata": {
  "kernelspec": {
   "display_name": "betterSectionTally",
   "language": "python",
   "name": "python3"
  },
  "language_info": {
   "codemirror_mode": {
    "name": "ipython",
    "version": 3
   },
   "file_extension": ".py",
   "mimetype": "text/x-python",
   "name": "python",
   "nbconvert_exporter": "python",
   "pygments_lexer": "ipython3",
   "version": "3.12.5"
  }
 },
 "nbformat": 4,
 "nbformat_minor": 2
}
