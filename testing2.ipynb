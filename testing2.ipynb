{
 "cells": [
  {
   "cell_type": "code",
   "execution_count": 1,
   "metadata": {},
   "outputs": [
    {
     "name": "stdout",
     "output_type": "stream",
     "text": [
      "Intel MKL WARNING: Support of Intel(R) Streaming SIMD Extensions 4.2 (Intel(R) SSE4.2) enabled only processors has been deprecated. Intel oneAPI Math Kernel Library 2025.0 will require Intel(R) Advanced Vector Extensions (Intel(R) AVX) instructions.\n",
      "Intel MKL WARNING: Support of Intel(R) Streaming SIMD Extensions 4.2 (Intel(R) SSE4.2) enabled only processors has been deprecated. Intel oneAPI Math Kernel Library 2025.0 will require Intel(R) Advanced Vector Extensions (Intel(R) AVX) instructions.\n"
     ]
    },
    {
     "name": "stderr",
     "output_type": "stream",
     "text": [
      "/Users/tarosh/Library/CloudStorage/OneDrive-Personal/Projects/mnist/data/MNIST/rowan_courses/catalog.py:3: TqdmWarning: IProgress not found. Please update jupyter and ipywidgets. See https://ipywidgets.readthedocs.io/en/stable/user_install.html\n",
      "  from tqdm.autonotebook import tqdm\n"
     ]
    }
   ],
   "source": [
    "import pandas as pd\n",
    "from catalog import Catalog\n",
    "\n",
    "section_tally = pd.read_csv('section_tally.csv')"
   ]
  },
  {
   "cell_type": "code",
   "execution_count": 2,
   "metadata": {},
   "outputs": [
    {
     "name": "stderr",
     "output_type": "stream",
     "text": [
      "100%|██████████| 145/145 [05:08<00:00,  2.13s/it]\n"
     ]
    }
   ],
   "source": [
    "course_catalog = Catalog(section_tally, term='202520')"
   ]
  },
  {
   "cell_type": "code",
   "execution_count": 13,
   "metadata": {},
   "outputs": [
    {
     "data": {
      "text/plain": [
       "[['CS 10337', 'MIS 02337', 'CS 04430', 'CS 02435', 'CS 10338'], ['CS 10339']]"
      ]
     },
     "execution_count": 13,
     "metadata": {},
     "output_type": "execute_result"
    }
   ],
   "source": [
    "course_catalog.catalog['CS 02421'].preqs"
   ]
  },
  {
   "cell_type": "code",
   "execution_count": null,
   "metadata": {},
   "outputs": [],
   "source": [
    "import ratemyprofessor"
   ]
  },
  {
   "cell_type": "code",
   "execution_count": 12,
   "metadata": {},
   "outputs": [],
   "source": [
    "school = ratemyprofessor.get_school_by_name(\"Rowan University\")"
   ]
  },
  {
   "cell_type": "code",
   "execution_count": 14,
   "metadata": {},
   "outputs": [],
   "source": [
    "professor = ratemyprofessor.get_professors_by_school_and_name(school, \"\")"
   ]
  },
  {
   "cell_type": "code",
   "execution_count": 19,
   "metadata": {},
   "outputs": [
    {
     "data": {
      "text/plain": [
       "[James Castorina,\n",
       " Maccamas Ikpah,\n",
       " Paul Viggiano,\n",
       " Linda Ross,\n",
       " Herbert Appelson,\n",
       " Maria Tahamont,\n",
       " Lourin Plant,\n",
       " Janet Lindman]"
      ]
     },
     "execution_count": 19,
     "metadata": {},
     "output_type": "execute_result"
    }
   ],
   "source": [
    "professor"
   ]
  },
  {
   "cell_type": "code",
   "execution_count": 11,
   "metadata": {},
   "outputs": [
    {
     "name": "stdout",
     "output_type": "stream",
     "text": [
      "Jennifer Kayworks in the Computer Science Department of Rowan University.\n",
      "Rating: 4.6 / 5.0\n",
      "Difficulty: 2.7 / 5.0\n",
      "Total Ratings: 45\n",
      "Would Take Again: 76.2%\n"
     ]
    }
   ],
   "source": [
    "\n",
    "\n",
    "\n",
    "\n",
    "if professor is not None:\n",
    "    print(\"%sworks in the %s Department of %s.\" % (professor.name, professor.department, professor.school.name))\n",
    "    print(\"Rating: %s / 5.0\" % professor.rating)\n",
    "    print(\"Difficulty: %s / 5.0\" % professor.difficulty)\n",
    "    print(\"Total Ratings: %s\" % professor.num_ratings)\n",
    "    if professor.would_take_again is not None:\n",
    "        print((\"Would Take Again: %s\" % round(professor.would_take_again, 1)) + '%')\n",
    "    else:\n",
    "        print(\"Would Take Again: N/A\")"
   ]
  }
 ],
 "metadata": {
  "kernelspec": {
   "display_name": "Python 3.12.5 ('betterSectionTally')",
   "language": "python",
   "name": "python3"
  },
  "language_info": {
   "codemirror_mode": {
    "name": "ipython",
    "version": 3
   },
   "file_extension": ".py",
   "mimetype": "text/x-python",
   "name": "python",
   "nbconvert_exporter": "python",
   "pygments_lexer": "ipython3",
   "version": "3.12.5"
  },
  "orig_nbformat": 4,
  "vscode": {
   "interpreter": {
    "hash": "21bcc8daa5091b1ee170940f0cfd4cf620e1862ae2e6996a2a5bc04203bad3e2"
   }
  }
 },
 "nbformat": 4,
 "nbformat_minor": 2
}
