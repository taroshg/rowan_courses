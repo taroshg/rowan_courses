{
 "cells": [
  {
   "cell_type": "code",
   "execution_count": 47,
   "metadata": {},
   "outputs": [],
   "source": [
    "import requests\n",
    "import pandas as pd\n",
    "from bs4 import BeautifulSoup"
   ]
  },
  {
   "cell_type": "code",
   "execution_count": 40,
   "metadata": {},
   "outputs": [],
   "source": [
    "response = requests.post(url='https://banner.rowan.edu/reports/reports.pl?task=Section_Tally',\n",
    "                data= {\"term\": \"202520\",\n",
    "                        \"task\": \"Section_Tally\",\n",
    "                        \"coll\": \"ALL\",\n",
    "                        \"dept\": \"ALL\",\n",
    "                        \"subj\": \"ALL\",\n",
    "                        \"ptrm\": \"ALL\",\n",
    "                        \"sess\": \"ALL\",\n",
    "                        \"prof\": \"ALL\",\n",
    "                        \"attr\": \"ALL\",\n",
    "                        \"camp\": \"ALL\",\n",
    "                        \"bldg\": \"ALL\",\n",
    "                        \"Search\": \"Search\",\n",
    "                        \"format\": \"excel\"})\n",
    "assert(response.status_code == 200), response.status_code\n",
    "\n",
    "with open('tally.xml', 'wb') as file:\n",
    "    file.write(response.content)"
   ]
  },
  {
   "cell_type": "code",
   "execution_count": 44,
   "metadata": {},
   "outputs": [],
   "source": [
    "from lxml import etree\n",
    "import csv\n",
    "\n",
    "# Parse the XML file\n",
    "parser = etree.XMLParser(recover=True)\n",
    "root = etree.fromstring(response.content, parser=parser)"
   ]
  },
  {
   "cell_type": "code",
   "execution_count": 45,
   "metadata": {},
   "outputs": [],
   "source": [
    "# Open a CSV file for writing\n",
    "with open('tally.csv', 'w', newline='') as csvfile:\n",
    "    csvwriter = csv.writer(csvfile)\n",
    "    \n",
    "    # Iterate through the XML tree and extract data\n",
    "    for worksheet in root.findall('{urn:schemas-microsoft-com:office:spreadsheet}Worksheet'):\n",
    "        sheet_name = worksheet.get('{urn:schemas-microsoft-com:office:spreadsheet}Name')\n",
    "        \n",
    "        for table in worksheet.findall('{urn:schemas-microsoft-com:office:spreadsheet}Table'):\n",
    "            for row in table.findall('{urn:schemas-microsoft-com:office:spreadsheet}Row'):\n",
    "                row_data = [cell.find('{urn:schemas-microsoft-com:office:spreadsheet}Data').text for cell in row.findall('{urn:schemas-microsoft-com:office:spreadsheet}Cell')]\n",
    "                csvwriter.writerow(row_data)\n"
   ]
  },
  {
   "cell_type": "code",
   "execution_count": 46,
   "metadata": {},
   "outputs": [],
   "source": [
    "df = pd.read_csv('tally.csv')"
   ]
  },
  {
   "cell_type": "code",
   "execution_count": 47,
   "metadata": {},
   "outputs": [
    {
     "data": {
      "text/html": [
       "<div>\n",
       "<style scoped>\n",
       "    .dataframe tbody tr th:only-of-type {\n",
       "        vertical-align: middle;\n",
       "    }\n",
       "\n",
       "    .dataframe tbody tr th {\n",
       "        vertical-align: top;\n",
       "    }\n",
       "\n",
       "    .dataframe thead th {\n",
       "        text-align: right;\n",
       "    }\n",
       "</style>\n",
       "<table border=\"1\" class=\"dataframe\">\n",
       "  <thead>\n",
       "    <tr style=\"text-align: right;\">\n",
       "      <th></th>\n",
       "      <th>CRN</th>\n",
       "      <th>Subj</th>\n",
       "      <th>Crse</th>\n",
       "      <th>Sect</th>\n",
       "      <th>Part of Term</th>\n",
       "      <th>Session</th>\n",
       "      <th>Title</th>\n",
       "      <th>Prof</th>\n",
       "      <th>Day  Beg   End   Bldg Room  (Type)</th>\n",
       "      <th>Campus</th>\n",
       "      <th>...</th>\n",
       "      <th>Hrs</th>\n",
       "      <th>Max</th>\n",
       "      <th>MaxResv</th>\n",
       "      <th>LeftResv</th>\n",
       "      <th>Enr</th>\n",
       "      <th>Avail</th>\n",
       "      <th>WaitCap</th>\n",
       "      <th>WaitCount</th>\n",
       "      <th>WaitAvail</th>\n",
       "      <th>Room Cap</th>\n",
       "    </tr>\n",
       "  </thead>\n",
       "  <tbody>\n",
       "    <tr>\n",
       "      <th>0</th>\n",
       "      <td>20237</td>\n",
       "      <td>ACC</td>\n",
       "      <td>03210</td>\n",
       "      <td>1</td>\n",
       "      <td>Full Term ... \\n21-JAN to 09-MAY</td>\n",
       "      <td>Day</td>\n",
       "      <td>PRINCIPLES OF ACCTG I</td>\n",
       "      <td>STAFF</td>\n",
       "      <td>MW      1530 1645 BUSN 131 (Class)</td>\n",
       "      <td>Main</td>\n",
       "      <td>...</td>\n",
       "      <td>3.0</td>\n",
       "      <td>35</td>\n",
       "      <td>0</td>\n",
       "      <td>0</td>\n",
       "      <td>0</td>\n",
       "      <td>35</td>\n",
       "      <td>5</td>\n",
       "      <td>0</td>\n",
       "      <td>5</td>\n",
       "      <td>40</td>\n",
       "    </tr>\n",
       "    <tr>\n",
       "      <th>1</th>\n",
       "      <td>20241</td>\n",
       "      <td>ACC</td>\n",
       "      <td>03210</td>\n",
       "      <td>2</td>\n",
       "      <td>Full Term ... \\n21-JAN to 09-MAY</td>\n",
       "      <td>Evening</td>\n",
       "      <td>PRINCIPLES OF ACCTG I</td>\n",
       "      <td>STAFF</td>\n",
       "      <td>M       1830 1945 BUSN 131 (Class)\\nM       20...</td>\n",
       "      <td>Main</td>\n",
       "      <td>...</td>\n",
       "      <td>3.0</td>\n",
       "      <td>35</td>\n",
       "      <td>0</td>\n",
       "      <td>0</td>\n",
       "      <td>0</td>\n",
       "      <td>35</td>\n",
       "      <td>5</td>\n",
       "      <td>0</td>\n",
       "      <td>5</td>\n",
       "      <td>40</td>\n",
       "    </tr>\n",
       "    <tr>\n",
       "      <th>2</th>\n",
       "      <td>20239</td>\n",
       "      <td>ACC</td>\n",
       "      <td>03210</td>\n",
       "      <td>3</td>\n",
       "      <td>Full Term ... \\n21-JAN to 09-MAY</td>\n",
       "      <td>Day</td>\n",
       "      <td>PRINCIPLES OF ACCTG I</td>\n",
       "      <td>STAFF</td>\n",
       "      <td>TR      1100 1215 BUSN 101 (Class)</td>\n",
       "      <td>Main</td>\n",
       "      <td>...</td>\n",
       "      <td>3.0</td>\n",
       "      <td>35</td>\n",
       "      <td>0</td>\n",
       "      <td>0</td>\n",
       "      <td>0</td>\n",
       "      <td>35</td>\n",
       "      <td>5</td>\n",
       "      <td>0</td>\n",
       "      <td>5</td>\n",
       "      <td>40</td>\n",
       "    </tr>\n",
       "    <tr>\n",
       "      <th>3</th>\n",
       "      <td>20282</td>\n",
       "      <td>ACC</td>\n",
       "      <td>03210</td>\n",
       "      <td>4</td>\n",
       "      <td>Full Term ... \\n21-JAN to 09-MAY</td>\n",
       "      <td>Day</td>\n",
       "      <td>PRINCIPLES OF ACCTG IRCB  Pre-business student...</td>\n",
       "      <td>Lin, Tony</td>\n",
       "      <td>TR      1400 1515 BUSN 131 (Class)</td>\n",
       "      <td>Main</td>\n",
       "      <td>...</td>\n",
       "      <td>3.0</td>\n",
       "      <td>35</td>\n",
       "      <td>0</td>\n",
       "      <td>0</td>\n",
       "      <td>0</td>\n",
       "      <td>35</td>\n",
       "      <td>5</td>\n",
       "      <td>0</td>\n",
       "      <td>5</td>\n",
       "      <td>40</td>\n",
       "    </tr>\n",
       "    <tr>\n",
       "      <th>4</th>\n",
       "      <td>20283</td>\n",
       "      <td>ACC</td>\n",
       "      <td>03210</td>\n",
       "      <td>5</td>\n",
       "      <td>Full Term ... \\n21-JAN to 09-MAY</td>\n",
       "      <td>Day</td>\n",
       "      <td>PRINCIPLES OF ACCTG IRCB  Pre-business student...</td>\n",
       "      <td>Lin, Tony</td>\n",
       "      <td>TR      1530 1645 BUSN 101 (Class)</td>\n",
       "      <td>Main</td>\n",
       "      <td>...</td>\n",
       "      <td>3.0</td>\n",
       "      <td>35</td>\n",
       "      <td>0</td>\n",
       "      <td>0</td>\n",
       "      <td>0</td>\n",
       "      <td>35</td>\n",
       "      <td>5</td>\n",
       "      <td>0</td>\n",
       "      <td>5</td>\n",
       "      <td>40</td>\n",
       "    </tr>\n",
       "  </tbody>\n",
       "</table>\n",
       "<p>5 rows × 21 columns</p>\n",
       "</div>"
      ],
      "text/plain": [
       "     CRN Subj   Crse Sect                      Part of Term  Session  \\\n",
       "0  20237  ACC  03210    1  Full Term ... \\n21-JAN to 09-MAY      Day   \n",
       "1  20241  ACC  03210    2  Full Term ... \\n21-JAN to 09-MAY  Evening   \n",
       "2  20239  ACC  03210    3  Full Term ... \\n21-JAN to 09-MAY      Day   \n",
       "3  20282  ACC  03210    4  Full Term ... \\n21-JAN to 09-MAY      Day   \n",
       "4  20283  ACC  03210    5  Full Term ... \\n21-JAN to 09-MAY      Day   \n",
       "\n",
       "                                               Title       Prof  \\\n",
       "0                              PRINCIPLES OF ACCTG I      STAFF   \n",
       "1                              PRINCIPLES OF ACCTG I      STAFF   \n",
       "2                              PRINCIPLES OF ACCTG I      STAFF   \n",
       "3  PRINCIPLES OF ACCTG IRCB  Pre-business student...  Lin, Tony   \n",
       "4  PRINCIPLES OF ACCTG IRCB  Pre-business student...  Lin, Tony   \n",
       "\n",
       "                  Day  Beg   End   Bldg Room  (Type) Campus  ...  Hrs  Max  \\\n",
       "0                 MW      1530 1645 BUSN 131 (Class)   Main  ...  3.0   35   \n",
       "1  M       1830 1945 BUSN 131 (Class)\\nM       20...   Main  ...  3.0   35   \n",
       "2                 TR      1100 1215 BUSN 101 (Class)   Main  ...  3.0   35   \n",
       "3                 TR      1400 1515 BUSN 131 (Class)   Main  ...  3.0   35   \n",
       "4                 TR      1530 1645 BUSN 101 (Class)   Main  ...  3.0   35   \n",
       "\n",
       "   MaxResv  LeftResv  Enr  Avail  WaitCap  WaitCount  WaitAvail  Room Cap  \n",
       "0        0         0    0     35        5          0          5        40  \n",
       "1        0         0    0     35        5          0          5        40  \n",
       "2        0         0    0     35        5          0          5        40  \n",
       "3        0         0    0     35        5          0          5        40  \n",
       "4        0         0    0     35        5          0          5        40  \n",
       "\n",
       "[5 rows x 21 columns]"
      ]
     },
     "execution_count": 47,
     "metadata": {},
     "output_type": "execute_result"
    }
   ],
   "source": [
    "df.head()"
   ]
  },
  {
   "cell_type": "code",
   "execution_count": 48,
   "metadata": {},
   "outputs": [
    {
     "name": "stdout",
     "output_type": "stream",
     "text": [
      "2 10 2024\n"
     ]
    }
   ],
   "source": [
    "from datetime import datetime\n",
    "\n",
    "current_day = datetime.now().day\n",
    "current_month = datetime.now().month\n",
    "current_year = datetime.now().year\n",
    "\n",
    "print(current_day, current_month, current_year)"
   ]
  },
  {
   "cell_type": "code",
   "execution_count": 53,
   "metadata": {},
   "outputs": [],
   "source": [
    "def _get_term_code(term: str):\n",
    "    TERM_VALUE = ['40', '30', '20', '10']\n",
    "    TERM_NAME = ['fall', 'summer', 'spring', 'winter']\n",
    "    \"\"\"gets rowan term code, {year}{TERM_VALUE}\n",
    "    Args:\n",
    "        term: {fall, summer, spring, winter} followed by year\n",
    "        ex. spring 2024, summer 2025 ...\n",
    "    \"\"\"\n",
    "    _split = term.split()\n",
    "    assert len(_split) == 2, \"invalid term\"\n",
    "    term, year = _split\n",
    "    assert len(year) == 4 and year.isalnum(), \"invalid term year\"\n",
    "\n",
    "    return f\"{year}{TERM_VALUE[TERM_NAME.index(term.lower())]}\""
   ]
  },
  {
   "cell_type": "code",
   "execution_count": 54,
   "metadata": {},
   "outputs": [
    {
     "data": {
      "text/plain": [
       "'202420'"
      ]
     },
     "execution_count": 54,
     "metadata": {},
     "output_type": "execute_result"
    }
   ],
   "source": [
    "term:str ='Spring 2024'\n",
    "_get_term_code(term)"
   ]
  },
  {
   "cell_type": "code",
   "execution_count": 2,
   "metadata": {},
   "outputs": [
    {
     "data": {
      "text/plain": [
       "{'tDept': 'Computer Science',\n",
       " 'tSid': '822',\n",
       " 'institution_name': 'Rowan University',\n",
       " 'tFname': 'Jennifer',\n",
       " 'tMiddlename': '',\n",
       " 'tLname': 'Kay',\n",
       " 'tid': 49373,\n",
       " 'tNumRatings': 45,\n",
       " 'rating_class': 'good',\n",
       " 'contentType': 'TEACHER',\n",
       " 'categoryType': 'PROFESSOR',\n",
       " 'overall_rating': '4.6'}"
      ]
     },
     "execution_count": 2,
     "metadata": {},
     "output_type": "execute_result"
    }
   ],
   "source": [
    "from ratemyprof import RateMyProfScraper\n",
    "import pandas as pd\n",
    "from courseclass import CourseClass\n",
    "\n",
    "rowan = RateMyProfScraper(822)\n",
    "rowan.find_prof('Jennifer Kay')"
   ]
  },
  {
   "cell_type": "code",
   "execution_count": 3,
   "metadata": {},
   "outputs": [
    {
     "data": {
      "text/html": [
       "<div>\n",
       "<style scoped>\n",
       "    .dataframe tbody tr th:only-of-type {\n",
       "        vertical-align: middle;\n",
       "    }\n",
       "\n",
       "    .dataframe tbody tr th {\n",
       "        vertical-align: top;\n",
       "    }\n",
       "\n",
       "    .dataframe thead th {\n",
       "        text-align: right;\n",
       "    }\n",
       "</style>\n",
       "<table border=\"1\" class=\"dataframe\">\n",
       "  <thead>\n",
       "    <tr style=\"text-align: right;\">\n",
       "      <th></th>\n",
       "      <th>CRN</th>\n",
       "      <th>Subj</th>\n",
       "      <th>Crse</th>\n",
       "      <th>Sect</th>\n",
       "      <th>Part of Term</th>\n",
       "      <th>Session</th>\n",
       "      <th>Title</th>\n",
       "      <th>Prof</th>\n",
       "      <th>Day  Beg   End   Bldg Room  (Type)</th>\n",
       "      <th>Campus</th>\n",
       "      <th>...</th>\n",
       "      <th>Hrs</th>\n",
       "      <th>Max</th>\n",
       "      <th>MaxResv</th>\n",
       "      <th>LeftResv</th>\n",
       "      <th>Enr</th>\n",
       "      <th>Avail</th>\n",
       "      <th>WaitCap</th>\n",
       "      <th>WaitCount</th>\n",
       "      <th>WaitAvail</th>\n",
       "      <th>Room Cap</th>\n",
       "    </tr>\n",
       "  </thead>\n",
       "  <tbody>\n",
       "    <tr>\n",
       "      <th>1063</th>\n",
       "      <td>22310</td>\n",
       "      <td>CS</td>\n",
       "      <td>02630</td>\n",
       "      <td>1</td>\n",
       "      <td>Full Term ... \\n21-JAN to 09-MAY</td>\n",
       "      <td>Day</td>\n",
       "      <td>ADV TOPICS IN DATABASE SYSTEMS</td>\n",
       "      <td>Kniaz, David A</td>\n",
       "      <td>W       1530 1645 ROBSON 306 (Class)\\nW       ...</td>\n",
       "      <td>Main</td>\n",
       "      <td>...</td>\n",
       "      <td>3.0</td>\n",
       "      <td>30</td>\n",
       "      <td>0</td>\n",
       "      <td>0</td>\n",
       "      <td>0</td>\n",
       "      <td>30</td>\n",
       "      <td>0</td>\n",
       "      <td>0</td>\n",
       "      <td>0</td>\n",
       "      <td>40</td>\n",
       "    </tr>\n",
       "    <tr>\n",
       "      <th>1064</th>\n",
       "      <td>22313</td>\n",
       "      <td>CS</td>\n",
       "      <td>02630</td>\n",
       "      <td>2</td>\n",
       "      <td>Full Term ... \\n21-JAN to 09-MAY</td>\n",
       "      <td>Day</td>\n",
       "      <td>ADV TOPICS IN DATABASE SYSTEMS</td>\n",
       "      <td>Myers, Jack F</td>\n",
       "      <td>R       1230 1345 ROBSON 306 (Class)\\nR       ...</td>\n",
       "      <td>Main</td>\n",
       "      <td>...</td>\n",
       "      <td>3.0</td>\n",
       "      <td>30</td>\n",
       "      <td>0</td>\n",
       "      <td>0</td>\n",
       "      <td>0</td>\n",
       "      <td>30</td>\n",
       "      <td>0</td>\n",
       "      <td>0</td>\n",
       "      <td>0</td>\n",
       "      <td>40</td>\n",
       "    </tr>\n",
       "  </tbody>\n",
       "</table>\n",
       "<p>2 rows × 21 columns</p>\n",
       "</div>"
      ],
      "text/plain": [
       "        CRN Subj   Crse Sect                      Part of Term Session  \\\n",
       "1063  22310   CS  02630    1  Full Term ... \\n21-JAN to 09-MAY     Day   \n",
       "1064  22313   CS  02630    2  Full Term ... \\n21-JAN to 09-MAY     Day   \n",
       "\n",
       "                               Title            Prof  \\\n",
       "1063  ADV TOPICS IN DATABASE SYSTEMS  Kniaz, David A   \n",
       "1064  ADV TOPICS IN DATABASE SYSTEMS   Myers, Jack F   \n",
       "\n",
       "                     Day  Beg   End   Bldg Room  (Type) Campus  ...  Hrs  Max  \\\n",
       "1063  W       1530 1645 ROBSON 306 (Class)\\nW       ...   Main  ...  3.0   30   \n",
       "1064  R       1230 1345 ROBSON 306 (Class)\\nR       ...   Main  ...  3.0   30   \n",
       "\n",
       "      MaxResv  LeftResv  Enr  Avail  WaitCap  WaitCount  WaitAvail  Room Cap  \n",
       "1063        0         0    0     30        0          0          0        40  \n",
       "1064        0         0    0     30        0          0          0        40  \n",
       "\n",
       "[2 rows x 21 columns]"
      ]
     },
     "execution_count": 3,
     "metadata": {},
     "output_type": "execute_result"
    }
   ],
   "source": [
    "df = pd.read_csv('tally.csv')\n",
    "subj = 'CS'\n",
    "crse = '02630'\n",
    "classes = df[(df['Subj'] == subj) & (df['Crse'] == crse)]\n",
    "classes"
   ]
  },
  {
   "cell_type": "code",
   "execution_count": 4,
   "metadata": {},
   "outputs": [],
   "source": [
    "clses: list[CourseClass] = []\n",
    "for i in range(len(classes)):\n",
    "    cls = classes.iloc[i]\n",
    "    prof = rowan.find_prof(cls['Prof'])\n",
    "\n",
    "    # if proffesor info is found else just put in string\n",
    "    prof = prof if prof else cls['Prof']\n",
    "    cls = CourseClass(subj, crse, prof, cls['Day  Beg   End   Bldg Room  (Type)'], cls['Avail'], cls['Max'])\n",
    "\n",
    "    clses.append(cls)"
   ]
  },
  {
   "cell_type": "code",
   "execution_count": 8,
   "metadata": {},
   "outputs": [
    {
     "data": {
      "text/plain": [
       "['spring', '2022']"
      ]
     },
     "execution_count": 8,
     "metadata": {},
     "output_type": "execute_result"
    }
   ],
   "source": [
    "\"spring 2022\".split()"
   ]
  },
  {
   "cell_type": "code",
   "execution_count": 7,
   "metadata": {},
   "outputs": [
    {
     "data": {
      "text/plain": [
       "{'tDept': 'Computer Science',\n",
       " 'tSid': '822',\n",
       " 'institution_name': 'Rowan University',\n",
       " 'tFname': 'Jack',\n",
       " 'tMiddlename': '',\n",
       " 'tLname': 'Myers',\n",
       " 'tid': 1975389,\n",
       " 'tNumRatings': 36,\n",
       " 'rating_class': 'good',\n",
       " 'contentType': 'TEACHER',\n",
       " 'categoryType': 'PROFESSOR',\n",
       " 'overall_rating': '4.4'}"
      ]
     },
     "execution_count": 7,
     "metadata": {},
     "output_type": "execute_result"
    }
   ],
   "source": [
    "clses[1].prof"
   ]
  },
  {
   "cell_type": "code",
   "execution_count": 22,
   "metadata": {},
   "outputs": [],
   "source": [
    "res = requests.post(url='https://catalog.rowan.edu/ajax/preview_course.php?', \n",
    "                    data={'catoid': \"9\",\n",
    "                          'coid': '30522',\n",
    "                          'display_options': 'a:2:{s:8:~location~;s:8:~template~;s:28:~course_program_display_field~;s:0:~~;}',\n",
    "                          \"show\": None,\n",
    "                        })\n",
    "assert(res.status_code == 200), res.status_code"
   ]
  },
  {
   "cell_type": "code",
   "execution_count": null,
   "metadata": {},
   "outputs": [],
   "source": [
    "from sectiontally import SectionTally\n",
    "from course import Course"
   ]
  },
  {
   "cell_type": "code",
   "execution_count": null,
   "metadata": {},
   "outputs": [],
   "source": [
    "st = SectionTally()"
   ]
  },
  {
   "cell_type": "code",
   "execution_count": 44,
   "metadata": {},
   "outputs": [],
   "source": [
    "response = requests.post(url='https://banner9.rowan.edu/ords/ssb/bwckctlg.p_disp_course_detail',\n",
    "            data= {'cat_term_in': term,\n",
    "                    'subj_code_in': subj,\n",
    "                    'crse_numb_in': crse})\n",
    "\n",
    "assert (response.status_code == 200), f\"error: {response.status_code}, unable to find course\"\n",
    "\n",
    "soup = BeautifulSoup(response.text, features=\"html.parser\")"
   ]
  }
 ],
 "metadata": {
  "kernelspec": {
   "display_name": "Python 3.12.5 ('betterSectionTally')",
   "language": "python",
   "name": "python3"
  },
  "language_info": {
   "codemirror_mode": {
    "name": "ipython",
    "version": 3
   },
   "file_extension": ".py",
   "mimetype": "text/x-python",
   "name": "python",
   "nbconvert_exporter": "python",
   "pygments_lexer": "ipython3",
   "version": "3.12.5"
  },
  "orig_nbformat": 4,
  "vscode": {
   "interpreter": {
    "hash": "21bcc8daa5091b1ee170940f0cfd4cf620e1862ae2e6996a2a5bc04203bad3e2"
   }
  }
 },
 "nbformat": 4,
 "nbformat_minor": 2
}
